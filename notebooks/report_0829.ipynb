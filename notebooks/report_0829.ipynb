{
 "cells": [
  {
   "metadata": {},
   "cell_type": "markdown",
   "source": "## Preprocess the data",
   "id": "7cd99dc7af959922"
  },
  {
   "metadata": {},
   "cell_type": "markdown",
   "source": "TCGA slides and RNA matching file are generated using code in data_check.ipynb.",
   "id": "d6564778725ae69f"
  },
  {
   "metadata": {},
   "cell_type": "markdown",
   "source": "TCGA RNA-seq are stored in /scratch/wang_lab/BRCA_project/data/TCGA/RNA-seq",
   "id": "e25f7c061b5006a1"
  },
  {
   "metadata": {},
   "cell_type": "markdown",
   "source": [
    "Before doing the preprocess, TCGA data was checked in the data_check.ipynb notebook. Basically matching the WSI and RNA-seq. The matched WSI and RNA information are stored in matched_metadata.csv. There is also a sample_description.csv provided by the nature paper. All the preprocess code are stored in the slide_process folder.\n",
    "- The BACH training data was cropped into 224\\*224 patches using crop_bach.py, files are stored in /scratch/wang_lab/BRCA_project/data/BACH/ICIAR2018_BACH_Challenge/Photos_crop. \n",
    "- Labels for each batches are stored in bach_labels.txt(/scratch/wang_lab/BRCA_project/data/bach_labels.txt). \n",
    "- The BACH test data was cropped into 224\\*224 pathes using crop_bach_test.py, files are stored in /scratch/wang_lab/BRCA_project/data/BACH/ICIAR2018_BACH_Challenge_TestDataset/Photos_crop.\n",
    "- TCGA slides was cropped and rescaled into the same size and scale as BACH data using TCGA_crop_rescale.py, files are stored in /scratch/wang_lab/BRCA_project/data/TCGA/WSI_resize_crop.\n",
    "- Coordinates file used for cropping TCGA slides is /scratch/wang_lab/BRCA_project/data/TCGA/tile_coordinates_TCGA_BRCA.pkl.\n",
    "- Labels for each TCGA patches are stored in tcga_labels.txt (/scratch/wang_lab/BRCA_project/data/tcga_labels.txt)."
   ],
   "id": "f213cc1282f6d036"
  },
  {
   "metadata": {},
   "cell_type": "markdown",
   "source": "## Testing UDA",
   "id": "421eac8fe63cff88"
  },
  {
   "metadata": {},
   "cell_type": "markdown",
   "source": "The original UDA code was modified to test on the BACH(source) and TCGA(target) data. The code used are net.py, lib.py, main.py, config.py, and data.py. The testing part in main.py are removed from the original main.py. Note that since TCGA does not have any label, I assigned all the labels to 0. the config file I used is bach_config.yaml. The min_step needs to be increased. resnet50 pretrained is also needed to run the model.",
   "id": "c7e70b1b0fc40a45"
  },
  {
   "metadata": {},
   "cell_type": "code",
   "outputs": [],
   "execution_count": null,
   "source": "",
   "id": "36458b1262ce2f1"
  }
 ],
 "metadata": {
  "kernelspec": {
   "display_name": "Python 3",
   "language": "python",
   "name": "python3"
  },
  "language_info": {
   "codemirror_mode": {
    "name": "ipython",
    "version": 2
   },
   "file_extension": ".py",
   "mimetype": "text/x-python",
   "name": "python",
   "nbconvert_exporter": "python",
   "pygments_lexer": "ipython2",
   "version": "2.7.6"
  }
 },
 "nbformat": 4,
 "nbformat_minor": 5
}
